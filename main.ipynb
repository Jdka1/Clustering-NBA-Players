{
 "cells": [
  {
   "cell_type": "code",
   "execution_count": 1,
   "metadata": {},
   "outputs": [],
   "source": [
    "import requests\n",
    "from bs4 import BeautifulSoup\n",
    "import time\n",
    "import random\n",
    "import pandas as pd\n",
    "import numpy as np\n",
    "\n",
    "\n",
    "    \n",
    "\n",
    "\n",
    "def get_pages():\n",
    "    urls = [f\"https://basketball.realgm.com/nba/stats/2023/Averages/Qualified/points/All/desc/{i}/Regular_Season\" for i in range(1,5)]\n",
    "    \n",
    "    html = requests.get(urls[0]).content\n",
    "    time.sleep(random.uniform(1,3))\n",
    "    soup = BeautifulSoup(html, 'html.parser')\n",
    "\n",
    "    table = soup.find_all('table', {\"data-tablesaw-mode\":\"swipe\"})[0]\n",
    "    stats = [stat.text for stat in table.find('thead').find_all('th')][1:]\n",
    "    stats_df = pd.DataFrame(columns=stats)\n",
    "\n",
    "    for url in urls:\n",
    "        html = requests.get(url).content\n",
    "        time.sleep(random.uniform(1,3))\n",
    "        soup = BeautifulSoup(html, 'html.parser')\n",
    "        \n",
    "        try:\n",
    "            table = soup.find_all('table', {\"data-tablesaw-mode\":\"swipe\"})[0]\n",
    "        except Exception:\n",
    "            break\n",
    "        else:\n",
    "            player_stats_list = []\n",
    "            rows = table.find('tbody').find_all('tr')\n",
    "            for row in rows:\n",
    "                player_stats = row.getText(separator='***').split('***')[1:]\n",
    "                player_stats_list.append(player_stats)\n",
    "\n",
    "\n",
    "            stats_df = pd.concat([stats_df, pd.DataFrame(player_stats_list, columns=stats)])\n",
    "        \n",
    "    return stats_df\n",
    "\n",
    "        \n",
    "\n",
    "\n",
    "data_df = get_pages()\n",
    "\n",
    "data = data_df.copy()\n",
    "\n",
    "for column in data.columns[2:]:\n",
    "    data[column] = [float(point) for point in data[column]]\n",
    "\n",
    "data\n",
    "\n",
    "def get_positions():\n",
    "    url = \"https://basketball.realgm.com/nba/players\"\n",
    "    html = requests.get(url).content\n",
    "    time.sleep(random.uniform(1,3))\n",
    "    soup = BeautifulSoup(html, 'html.parser')\n",
    "\n",
    "    table_class = soup.find_all(\"table\", {\"data-tablesaw-mode\": \"swipe\"})[0].find(\"tbody\")\n",
    "    rows = table_class.find_all(\"tr\")\n",
    "\n",
    "    player_positions = { rows[i].find(\"td\", {\"data-th\": \"Player\"}).text: rows[i].find(\"td\", {\"data-th\": \"Pos\"}).text\n",
    "                         for i in range(len(rows)) }\n",
    "    \n",
    "    positions = []\n",
    "    for player in data['Player']:\n",
    "        try:\n",
    "            position = player_positions[player]\n",
    "        except Exception:\n",
    "            position = None\n",
    "        finally:\n",
    "            positions.append(position)\n",
    "\n",
    "    data['Position'] = positions\n",
    "\n",
    "get_positions()"
   ]
  },
  {
   "cell_type": "code",
   "execution_count": 2,
   "metadata": {},
   "outputs": [
    {
     "data": {
      "text/html": [
       "<div>\n",
       "<style scoped>\n",
       "    .dataframe tbody tr th:only-of-type {\n",
       "        vertical-align: middle;\n",
       "    }\n",
       "\n",
       "    .dataframe tbody tr th {\n",
       "        vertical-align: top;\n",
       "    }\n",
       "\n",
       "    .dataframe thead th {\n",
       "        text-align: right;\n",
       "    }\n",
       "</style>\n",
       "<table border=\"1\" class=\"dataframe\">\n",
       "  <thead>\n",
       "    <tr style=\"text-align: right;\">\n",
       "      <th></th>\n",
       "      <th>Player</th>\n",
       "      <th>Team</th>\n",
       "      <th>GP</th>\n",
       "      <th>MPG</th>\n",
       "      <th>PPG</th>\n",
       "      <th>FGM</th>\n",
       "      <th>FGA</th>\n",
       "      <th>FG%</th>\n",
       "      <th>3PM</th>\n",
       "      <th>3PA</th>\n",
       "      <th>...</th>\n",
       "      <th>FT%</th>\n",
       "      <th>ORB</th>\n",
       "      <th>DRB</th>\n",
       "      <th>RPG</th>\n",
       "      <th>APG</th>\n",
       "      <th>SPG</th>\n",
       "      <th>BPG</th>\n",
       "      <th>TOV</th>\n",
       "      <th>PF</th>\n",
       "      <th>Position</th>\n",
       "    </tr>\n",
       "  </thead>\n",
       "  <tbody>\n",
       "    <tr>\n",
       "      <th>0</th>\n",
       "      <td>Luka Doncic</td>\n",
       "      <td>DAL</td>\n",
       "      <td>12.0</td>\n",
       "      <td>36.9</td>\n",
       "      <td>34.3</td>\n",
       "      <td>11.7</td>\n",
       "      <td>23.5</td>\n",
       "      <td>0.496</td>\n",
       "      <td>2.3</td>\n",
       "      <td>8.2</td>\n",
       "      <td>...</td>\n",
       "      <td>0.748</td>\n",
       "      <td>1.0</td>\n",
       "      <td>7.7</td>\n",
       "      <td>8.7</td>\n",
       "      <td>8.1</td>\n",
       "      <td>2.0</td>\n",
       "      <td>0.7</td>\n",
       "      <td>3.3</td>\n",
       "      <td>3.3</td>\n",
       "      <td>F</td>\n",
       "    </tr>\n",
       "    <tr>\n",
       "      <th>1</th>\n",
       "      <td>Joel Embiid</td>\n",
       "      <td>PHI</td>\n",
       "      <td>10.0</td>\n",
       "      <td>35.2</td>\n",
       "      <td>32.3</td>\n",
       "      <td>10.8</td>\n",
       "      <td>20.1</td>\n",
       "      <td>0.537</td>\n",
       "      <td>0.9</td>\n",
       "      <td>3.8</td>\n",
       "      <td>...</td>\n",
       "      <td>0.831</td>\n",
       "      <td>1.6</td>\n",
       "      <td>8.5</td>\n",
       "      <td>10.1</td>\n",
       "      <td>4.1</td>\n",
       "      <td>0.6</td>\n",
       "      <td>1.8</td>\n",
       "      <td>4.2</td>\n",
       "      <td>3.4</td>\n",
       "      <td>C</td>\n",
       "    </tr>\n",
       "    <tr>\n",
       "      <th>2</th>\n",
       "      <td>Jayson Tatum</td>\n",
       "      <td>BOS</td>\n",
       "      <td>14.0</td>\n",
       "      <td>37.5</td>\n",
       "      <td>31.9</td>\n",
       "      <td>10.3</td>\n",
       "      <td>20.9</td>\n",
       "      <td>0.491</td>\n",
       "      <td>3.5</td>\n",
       "      <td>9.5</td>\n",
       "      <td>...</td>\n",
       "      <td>0.866</td>\n",
       "      <td>0.8</td>\n",
       "      <td>6.6</td>\n",
       "      <td>7.4</td>\n",
       "      <td>3.9</td>\n",
       "      <td>0.9</td>\n",
       "      <td>1.4</td>\n",
       "      <td>2.4</td>\n",
       "      <td>2.2</td>\n",
       "      <td>F</td>\n",
       "    </tr>\n",
       "    <tr>\n",
       "      <th>3</th>\n",
       "      <td>Donovan Mitchell</td>\n",
       "      <td>CLE</td>\n",
       "      <td>11.0</td>\n",
       "      <td>39.1</td>\n",
       "      <td>31.6</td>\n",
       "      <td>11.2</td>\n",
       "      <td>21.8</td>\n",
       "      <td>0.513</td>\n",
       "      <td>4.2</td>\n",
       "      <td>9.6</td>\n",
       "      <td>...</td>\n",
       "      <td>0.875</td>\n",
       "      <td>1.0</td>\n",
       "      <td>3.7</td>\n",
       "      <td>4.7</td>\n",
       "      <td>6.1</td>\n",
       "      <td>1.4</td>\n",
       "      <td>0.6</td>\n",
       "      <td>3.4</td>\n",
       "      <td>2.9</td>\n",
       "      <td>G</td>\n",
       "    </tr>\n",
       "    <tr>\n",
       "      <th>4</th>\n",
       "      <td>Shai Gilgeous-Alexander</td>\n",
       "      <td>OKC</td>\n",
       "      <td>13.0</td>\n",
       "      <td>35.9</td>\n",
       "      <td>31.5</td>\n",
       "      <td>11.6</td>\n",
       "      <td>21.5</td>\n",
       "      <td>0.539</td>\n",
       "      <td>1.1</td>\n",
       "      <td>2.8</td>\n",
       "      <td>...</td>\n",
       "      <td>0.940</td>\n",
       "      <td>0.8</td>\n",
       "      <td>3.5</td>\n",
       "      <td>4.4</td>\n",
       "      <td>5.8</td>\n",
       "      <td>2.1</td>\n",
       "      <td>1.5</td>\n",
       "      <td>3.4</td>\n",
       "      <td>2.5</td>\n",
       "      <td>G</td>\n",
       "    </tr>\n",
       "    <tr>\n",
       "      <th>...</th>\n",
       "      <td>...</td>\n",
       "      <td>...</td>\n",
       "      <td>...</td>\n",
       "      <td>...</td>\n",
       "      <td>...</td>\n",
       "      <td>...</td>\n",
       "      <td>...</td>\n",
       "      <td>...</td>\n",
       "      <td>...</td>\n",
       "      <td>...</td>\n",
       "      <td>...</td>\n",
       "      <td>...</td>\n",
       "      <td>...</td>\n",
       "      <td>...</td>\n",
       "      <td>...</td>\n",
       "      <td>...</td>\n",
       "      <td>...</td>\n",
       "      <td>...</td>\n",
       "      <td>...</td>\n",
       "      <td>...</td>\n",
       "      <td>...</td>\n",
       "    </tr>\n",
       "    <tr>\n",
       "      <th>2</th>\n",
       "      <td>Josh Okogie</td>\n",
       "      <td>PHX</td>\n",
       "      <td>12.0</td>\n",
       "      <td>5.3</td>\n",
       "      <td>1.0</td>\n",
       "      <td>0.3</td>\n",
       "      <td>1.2</td>\n",
       "      <td>0.286</td>\n",
       "      <td>0.0</td>\n",
       "      <td>0.6</td>\n",
       "      <td>...</td>\n",
       "      <td>0.667</td>\n",
       "      <td>0.3</td>\n",
       "      <td>0.9</td>\n",
       "      <td>1.2</td>\n",
       "      <td>0.1</td>\n",
       "      <td>0.3</td>\n",
       "      <td>0.2</td>\n",
       "      <td>0.4</td>\n",
       "      <td>0.7</td>\n",
       "      <td>G</td>\n",
       "    </tr>\n",
       "    <tr>\n",
       "      <th>3</th>\n",
       "      <td>Paul Reed, Jr.</td>\n",
       "      <td>PHI</td>\n",
       "      <td>11.0</td>\n",
       "      <td>7.2</td>\n",
       "      <td>0.5</td>\n",
       "      <td>0.3</td>\n",
       "      <td>1.2</td>\n",
       "      <td>0.231</td>\n",
       "      <td>0.0</td>\n",
       "      <td>0.2</td>\n",
       "      <td>...</td>\n",
       "      <td>0.000</td>\n",
       "      <td>0.5</td>\n",
       "      <td>1.2</td>\n",
       "      <td>1.6</td>\n",
       "      <td>0.1</td>\n",
       "      <td>1.0</td>\n",
       "      <td>0.5</td>\n",
       "      <td>0.3</td>\n",
       "      <td>1.8</td>\n",
       "      <td>F</td>\n",
       "    </tr>\n",
       "    <tr>\n",
       "      <th>4</th>\n",
       "      <td>KZ Okpala</td>\n",
       "      <td>SAC</td>\n",
       "      <td>6.0</td>\n",
       "      <td>6.4</td>\n",
       "      <td>0.5</td>\n",
       "      <td>0.2</td>\n",
       "      <td>0.8</td>\n",
       "      <td>0.200</td>\n",
       "      <td>0.2</td>\n",
       "      <td>0.7</td>\n",
       "      <td>...</td>\n",
       "      <td>0.000</td>\n",
       "      <td>0.3</td>\n",
       "      <td>0.7</td>\n",
       "      <td>1.0</td>\n",
       "      <td>0.3</td>\n",
       "      <td>0.0</td>\n",
       "      <td>0.0</td>\n",
       "      <td>0.0</td>\n",
       "      <td>0.7</td>\n",
       "      <td>G</td>\n",
       "    </tr>\n",
       "    <tr>\n",
       "      <th>5</th>\n",
       "      <td>Jaxson Hayes</td>\n",
       "      <td>NOP</td>\n",
       "      <td>5.0</td>\n",
       "      <td>7.4</td>\n",
       "      <td>0.4</td>\n",
       "      <td>0.2</td>\n",
       "      <td>1.0</td>\n",
       "      <td>0.200</td>\n",
       "      <td>0.0</td>\n",
       "      <td>0.4</td>\n",
       "      <td>...</td>\n",
       "      <td>0.000</td>\n",
       "      <td>0.2</td>\n",
       "      <td>0.8</td>\n",
       "      <td>1.0</td>\n",
       "      <td>0.6</td>\n",
       "      <td>0.2</td>\n",
       "      <td>0.2</td>\n",
       "      <td>0.2</td>\n",
       "      <td>1.0</td>\n",
       "      <td>F</td>\n",
       "    </tr>\n",
       "    <tr>\n",
       "      <th>6</th>\n",
       "      <td>Cody Martin</td>\n",
       "      <td>CHA</td>\n",
       "      <td>1.0</td>\n",
       "      <td>0.9</td>\n",
       "      <td>0.0</td>\n",
       "      <td>0.0</td>\n",
       "      <td>0.0</td>\n",
       "      <td>0.000</td>\n",
       "      <td>0.0</td>\n",
       "      <td>0.0</td>\n",
       "      <td>...</td>\n",
       "      <td>0.000</td>\n",
       "      <td>0.0</td>\n",
       "      <td>0.0</td>\n",
       "      <td>0.0</td>\n",
       "      <td>0.0</td>\n",
       "      <td>0.0</td>\n",
       "      <td>0.0</td>\n",
       "      <td>0.0</td>\n",
       "      <td>0.0</td>\n",
       "      <td>F</td>\n",
       "    </tr>\n",
       "  </tbody>\n",
       "</table>\n",
       "<p>307 rows × 23 columns</p>\n",
       "</div>"
      ],
      "text/plain": [
       "                     Player Team    GP   MPG   PPG   FGM   FGA    FG%  3PM  \\\n",
       "0               Luka Doncic  DAL  12.0  36.9  34.3  11.7  23.5  0.496  2.3   \n",
       "1               Joel Embiid  PHI  10.0  35.2  32.3  10.8  20.1  0.537  0.9   \n",
       "2              Jayson Tatum  BOS  14.0  37.5  31.9  10.3  20.9  0.491  3.5   \n",
       "3          Donovan Mitchell  CLE  11.0  39.1  31.6  11.2  21.8  0.513  4.2   \n",
       "4   Shai Gilgeous-Alexander  OKC  13.0  35.9  31.5  11.6  21.5  0.539  1.1   \n",
       "..                      ...  ...   ...   ...   ...   ...   ...    ...  ...   \n",
       "2               Josh Okogie  PHX  12.0   5.3   1.0   0.3   1.2  0.286  0.0   \n",
       "3            Paul Reed, Jr.  PHI  11.0   7.2   0.5   0.3   1.2  0.231  0.0   \n",
       "4                 KZ Okpala  SAC   6.0   6.4   0.5   0.2   0.8  0.200  0.2   \n",
       "5              Jaxson Hayes  NOP   5.0   7.4   0.4   0.2   1.0  0.200  0.0   \n",
       "6               Cody Martin  CHA   1.0   0.9   0.0   0.0   0.0  0.000  0.0   \n",
       "\n",
       "    3PA  ...    FT%  ORB  DRB   RPG  APG  SPG  BPG  TOV   PF  Position  \n",
       "0   8.2  ...  0.748  1.0  7.7   8.7  8.1  2.0  0.7  3.3  3.3         F  \n",
       "1   3.8  ...  0.831  1.6  8.5  10.1  4.1  0.6  1.8  4.2  3.4         C  \n",
       "2   9.5  ...  0.866  0.8  6.6   7.4  3.9  0.9  1.4  2.4  2.2         F  \n",
       "3   9.6  ...  0.875  1.0  3.7   4.7  6.1  1.4  0.6  3.4  2.9         G  \n",
       "4   2.8  ...  0.940  0.8  3.5   4.4  5.8  2.1  1.5  3.4  2.5         G  \n",
       "..  ...  ...    ...  ...  ...   ...  ...  ...  ...  ...  ...       ...  \n",
       "2   0.6  ...  0.667  0.3  0.9   1.2  0.1  0.3  0.2  0.4  0.7         G  \n",
       "3   0.2  ...  0.000  0.5  1.2   1.6  0.1  1.0  0.5  0.3  1.8         F  \n",
       "4   0.7  ...  0.000  0.3  0.7   1.0  0.3  0.0  0.0  0.0  0.7         G  \n",
       "5   0.4  ...  0.000  0.2  0.8   1.0  0.6  0.2  0.2  0.2  1.0         F  \n",
       "6   0.0  ...  0.000  0.0  0.0   0.0  0.0  0.0  0.0  0.0  0.0         F  \n",
       "\n",
       "[307 rows x 23 columns]"
      ]
     },
     "execution_count": 2,
     "metadata": {},
     "output_type": "execute_result"
    }
   ],
   "source": [
    "df = data.copy()\n",
    "\n",
    "df.loc[df['Position'].isin(['SF','PF']), 'Position'] = 'F'\n",
    "df.loc[df['Position'].isin(['SG','PG']), 'Position'] = 'G'\n",
    "df.loc[df['Position'].isin(['FC']), 'Position'] = 'C'\n",
    "df.loc[df['Position'].isin(['GF']), 'Position'] = 'F'\n",
    "\n",
    "df"
   ]
  },
  {
   "cell_type": "code",
   "execution_count": 3,
   "metadata": {},
   "outputs": [
    {
     "data": {
      "application/vnd.plotly.v1+json": {
       "config": {
        "plotlyServerURL": "https://plot.ly"
       },
       "data": [
        {
         "customdata": [
          [
           "DAL"
          ],
          [
           "BOS"
          ],
          [
           "MIL"
          ],
          [
           "BRK"
          ],
          [
           "BOS"
          ],
          [
           "LAL"
          ],
          [
           "TOR"
          ],
          [
           "LAC"
          ],
          [
           "LAL"
          ],
          [
           "CHI"
          ],
          [
           "NOP"
          ],
          [
           "SAS"
          ],
          [
           "UTA"
          ],
          [
           "MIA"
          ],
          [
           "MIN"
          ],
          [
           "NYK"
          ],
          [
           "POR"
          ],
          [
           "DET"
          ],
          [
           "DET"
          ],
          [
           "IND"
          ],
          [
           "HOU"
          ],
          [
           "ORL"
          ],
          [
           "WAS"
          ],
          [
           "CHA"
          ],
          [
           "GSW"
          ],
          [
           "DEN"
          ],
          [
           "SAC"
          ],
          [
           "CHA"
          ],
          [
           "TOR"
          ],
          [
           "SAC"
          ],
          [
           "ORL"
          ],
          [
           "CHI"
          ],
          [
           "DAL"
          ],
          [
           "DET"
          ],
          [
           "ATL"
          ],
          [
           "MEM"
          ],
          [
           "CLE"
          ],
          [
           "LAC"
          ],
          [
           "PHI"
          ],
          [
           "CHA"
          ],
          [
           "DEN"
          ],
          [
           "MIL"
          ],
          [
           "TOR"
          ],
          [
           "SAC"
          ],
          [
           "ATL"
          ],
          [
           "TOR"
          ],
          [
           "ATL"
          ],
          [
           "WAS"
          ],
          [
           "MIN"
          ],
          [
           "HOU"
          ],
          [
           "SAC"
          ],
          [
           "BRK"
          ],
          [
           "NYK"
          ],
          [
           "HOU"
          ],
          [
           "CHA"
          ],
          [
           "SAS"
          ],
          [
           "CHA"
          ],
          [
           "MEM"
          ],
          [
           "ORL"
          ],
          [
           "LAL"
          ],
          [
           "NOP"
          ],
          [
           "BOS"
          ],
          [
           "WAS"
          ],
          [
           "POR"
          ],
          [
           "CLE"
          ],
          [
           "TOR"
          ],
          [
           "UTA"
          ],
          [
           "MIA"
          ],
          [
           "IND"
          ],
          [
           "HOU"
          ],
          [
           "MIN"
          ],
          [
           "PHI"
          ],
          [
           "DAL"
          ],
          [
           "ATL"
          ],
          [
           "OKC"
          ],
          [
           "GSW"
          ],
          [
           "POR"
          ],
          [
           "NYK"
          ],
          [
           "UTA"
          ],
          [
           "DEN"
          ],
          [
           "BOS"
          ],
          [
           "CLE"
          ],
          [
           "SAS"
          ],
          [
           "NOP"
          ],
          [
           "MIA"
          ],
          [
           "POR"
          ],
          [
           "SAC"
          ],
          [
           "MIA"
          ],
          [
           "DAL"
          ],
          [
           "ATL"
          ],
          [
           "GSW"
          ],
          [
           "DET"
          ],
          [
           "MIL"
          ],
          [
           "MIN"
          ],
          [
           "BRK"
          ],
          [
           "PHX"
          ],
          [
           "ORL"
          ],
          [
           "OKC"
          ],
          [
           "SAC"
          ],
          [
           "DET"
          ],
          [
           "OKC"
          ],
          [
           "OKC"
          ],
          [
           "CHI"
          ],
          [
           "MEM"
          ],
          [
           "MEM"
          ],
          [
           "GSW"
          ],
          [
           "GSW"
          ],
          [
           "PHI"
          ],
          [
           "DAL"
          ],
          [
           "LAL"
          ],
          [
           "LAL"
          ],
          [
           "UTA"
          ],
          [
           "PHI"
          ],
          [
           "ATL"
          ],
          [
           "LAC"
          ],
          [
           "DEN"
          ],
          [
           "SAC"
          ],
          [
           "PHI"
          ],
          [
           "WAS"
          ],
          [
           "ORL"
          ],
          [
           "TOR"
          ],
          [
           "HOU"
          ],
          [
           "ORL"
          ],
          [
           "PHX"
          ],
          [
           "BOS"
          ],
          [
           "LAL"
          ],
          [
           "CHA"
          ],
          [
           "LAL"
          ],
          [
           "BRK"
          ],
          [
           "LAC"
          ],
          [
           "PHI"
          ],
          [
           "PHI"
          ],
          [
           "NOP"
          ],
          [
           "CHA"
          ]
         ],
         "hovertemplate": "<b>%{hovertext}</b><br><br>Position=F<br>2=%{z}<extra></extra>",
         "hovertext": [
          "Luka Doncic",
          "Jayson Tatum",
          "Giannis Antetokounmpo",
          "Kevin Durant",
          "Jaylen Brown",
          "LeBron James",
          "Pascal Siakam",
          "Paul George",
          "Anthony Davis",
          "DeMar DeRozan",
          "Zion Williamson",
          "Keldon Johnson",
          "Lauri Markkanen",
          "Jimmy Butler",
          "Anthony Edwards",
          "Julius Randle",
          "Jerami Grant",
          "Bojan Bogdanovic",
          "Cade Cunningham",
          "Bennedict Mathurin",
          "Kevin Porter, Jr.",
          "Franz Wagner",
          "Kyle Kuzma",
          "Kelly Oubre, Jr.",
          "Andrew Wiggins",
          "Michael Porter, Jr.",
          "Domantas Sabonis",
          "Gordon Hayward",
          "OG Anunoby",
          "Kevin Huerter",
          "Wendell Carter, Jr.",
          "Nikola Vucevic",
          "Christian Wood",
          "Saddiq Bey",
          "De'Andre Hunter",
          "Dillon Brooks",
          "Evan Mobley",
          "Marcus Morris",
          "Tobias Harris",
          "P.J. Washington",
          "Aaron Gordon",
          "Bobby Portis",
          "Scottie Barnes",
          "Keegan Murray",
          "John Collins",
          "Chris Boucher",
          "Clint Capela",
          "Rui Hachimura",
          "Jaden McDaniels",
          "K.J. Martin",
          "Harrison Barnes",
          "Royce O'Neale",
          "Obi Toppin",
          "Jabari Smith, Jr.",
          "Jalen McDaniels",
          "Doug McDermott",
          "Mason Plumlee",
          "Brandon Clarke",
          "Terrence Ross",
          "Troy Brown, Jr.",
          "Larry Nance, Jr.",
          "Grant Williams",
          "Will Barton",
          "Shaedon Sharpe",
          "Cedi Osman",
          "Precious Achiuwa",
          "Jarred Vanderbilt",
          "Caleb Martin",
          "Isaiah Jackson",
          "Tari Eason",
          "Taurean Prince",
          "Georges Niang",
          "Dorian Finney-Smith",
          "Onyeka Okongwu",
          "Jeremiah Robinson-Earl",
          "Draymond Green",
          "Justise Winslow",
          "Isaiah Hartenstein",
          "Talen Horton-Tucker",
          "Jeff Green",
          "Sam Hauser",
          "Dean Wade",
          "Keita Bates-Diop",
          "Naji Marshall",
          "Duncan Robinson",
          "Nassir Little",
          "Terence Davis",
          "Dewayne Dedmon",
          "Dwight Powell",
          "Justin Holiday",
          "Kevon Looney",
          "Jalen Duren",
          "Jordan Nwora",
          "Kyle Anderson",
          "Yuta Watanabe",
          "Torrey Craig",
          "Chuma Okeke",
          "Darius Bazley",
          "Trey Lyles",
          "Isaiah Livers",
          "Kenrich Williams",
          "Aaron Wiggins",
          "Derrick Jones",
          "David Roddy",
          "Jake LaRavia",
          "Jonathan Kuminga",
          "JaMychal Green",
          "P.J. Tucker",
          "Maxi Kleber",
          "Wenyen Gabriel",
          "Matt Ryan",
          "Rudy Gay",
          "Montrezl Harrell",
          "Jalen Johnson",
          "Nicolas Batum",
          "Christian Braun",
          "Richaun Holmes",
          "Danuel House",
          "Anthony Gill",
          "Kevon Harris",
          "Thaddeus Young",
          "Daishen Nix",
          "Caleb Houstan",
          "Bismack Biyombo",
          "Luke Kornet",
          "Damian Jones",
          "J.T. Thor",
          "Juan Toscano-Anderson",
          "Day'Ron Sharpe",
          "Amir Coffey",
          "Matisse Thybulle",
          "Paul Reed, Jr.",
          "Jaxson Hayes",
          "Cody Martin"
         ],
         "legendgroup": "F",
         "marker": {
          "color": "#636efa",
          "size": 5,
          "symbol": "circle"
         },
         "mode": "markers",
         "name": "F",
         "scene": "scene",
         "showlegend": true,
         "type": "scatter3d",
         "x": [
          32.55985622300744,
          29.29660573039021,
          26.737271668086795,
          27.13086118434545,
          23.019032385714368,
          23.610986089828,
          22.402537268413575,
          21.252395383826535,
          20.12875044613955,
          18.037864562801175,
          16.772767033627794,
          17.617868363268837,
          16.555160280049424,
          17.560454488475493,
          18.467165143811087,
          16.564727200753076,
          16.15857874974692,
          12.491186471151476,
          16.683296391915622,
          10.553275221375845,
          16.31376432092363,
          14.008809042775573,
          14.004048622553798,
          12.409055875101776,
          13.198506515539195,
          9.71303592613003,
          12.672983945976313,
          10.511702441914538,
          13.800820857345029,
          9.366658880919266,
          10.990171925092927,
          10.699274099685729,
          4.4996665890846295,
          9.21658548303477,
          7.883169227002711,
          8.247544107342279,
          9.73318044239223,
          7.973897182864745,
          10.129884524661259,
          8.576079155654377,
          5.964004687118444,
          5.259305021013052,
          8.549400521120583,
          6.316195530626569,
          6.570302644278107,
          -0.8298347868782868,
          2.5627395645940734,
          -0.27661562656222133,
          2.4880420261916565,
          0.11456700259559266,
          4.704022400324541,
          7.673043111739957,
          -5.730511948516981,
          3.860814595977614,
          0.21898652655216777,
          -3.830892828749045,
          0.2120297643264938,
          -6.647850736390112,
          -0.5400033947629952,
          0.42103044285816627,
          -3.306168864074259,
          -0.22100858996511188,
          -2.000877115456579,
          -5.395219912572822,
          -4.610977901256169,
          -4.2564113943911215,
          -1.9408791028692884,
          0.3655034559250407,
          -7.139495418028132,
          -6.812076729949824,
          -6.586572790163464,
          -7.778320531233843,
          2.2160078040279583,
          -6.7602161346072815,
          -7.878823999310014,
          1.1342317231749324,
          -1.103486508912522,
          -2.864952561149799,
          -8.192470895943176,
          -7.108092401440438,
          -10.494742918585866,
          -5.906482643065798,
          -11.858240699826277,
          -7.738720424714209,
          -8.780247235349384,
          -11.387772979328105,
          -12.964742140944585,
          -13.755122432466308,
          -9.96903003069057,
          -8.486797017297086,
          -5.285158463390478,
          -7.145300291472033,
          -8.535651868704743,
          -9.207811625513934,
          -11.3005381350798,
          -8.081507769214367,
          -7.361389189785159,
          -10.05103217210757,
          -12.06717728584777,
          -8.976454700056937,
          -8.139022265752335,
          -7.962579221921534,
          -12.777347535477379,
          -9.705229669864664,
          -9.88428987419249,
          -13.380362321692473,
          -11.125906329196406,
          -4.3977875511056626,
          -5.610742812637144,
          -14.576130195820939,
          -15.053104764658302,
          -12.215501354179144,
          -16.753418603889802,
          -14.075310415894577,
          -11.519823007014693,
          -13.60650009198965,
          -16.024924006299464,
          -13.07677616662178,
          -15.631962939291553,
          -15.156913298260053,
          -15.033122636747784,
          -15.0535667848696,
          -13.163340556186906,
          -16.80111372124263,
          -17.254256609015343,
          -19.43565070511244,
          -17.58272579867708,
          -17.07370200862737,
          -19.383923525870518,
          -20.128095093379223,
          -17.558921695414607,
          -22.53368629644731,
          -22.759798351689252,
          -28.08646974599459
         ],
         "y": [
          -9.894509463366159,
          -6.948274414563492,
          -9.489192029434921,
          -5.985224160196992,
          -2.456631316634152,
          -3.631785660174783,
          -3.0142336960405074,
          -3.337295559996722,
          -1.2006638339644387,
          -3.5918726533992555,
          -3.869762867893261,
          -3.890700870882258,
          -0.518378968944972,
          -0.10973312239587674,
          0.36858884203717956,
          -0.40850908410897496,
          0.17443653490929864,
          -2.030532685243159,
          -1.3677397734471486,
          -4.7506972445223195,
          0.3830177997792979,
          0.8559575435237983,
          1.169127270380319,
          -1.406041834939397,
          1.2470883601213465,
          -1.0628088246078131,
          2.3214652969803646,
          -1.526981295023156,
          3.7523498640967348,
          0.7819419448394952,
          3.8842698653707033,
          3.46817887634139,
          -2.278594046020164,
          1.6868748854309772,
          0.5481457890552546,
          -1.081551572246028,
          5.407519925579331,
          2.6145437364264645,
          4.654665098581106,
          2.5805112166585635,
          1.9836079994065334,
          1.7321470272258033,
          4.277276048786759,
          3.906535511287666,
          5.805766118801296,
          -1.283243035226581,
          5.5166244610572965,
          0.018843627849487007,
          4.531563113563957,
          1.8466253962153916,
          5.54554609601556,
          9.364743176461518,
          -3.128405878714103,
          4.851869118518829,
          3.5558997544257758,
          -1.0568328532608389,
          5.610440372023281,
          -1.8472049500849153,
          2.727870508456963,
          3.9254940303139056,
          2.3276678137395206,
          5.629695197992468,
          1.3731554568494915,
          -0.4774090906447701,
          -0.23554980172156667,
          0.02043172624565133,
          4.8540987526109785,
          5.899034726300802,
          -0.6723735104856816,
          -1.0903501300753733,
          -0.2398845727796532,
          -1.7744093353760142,
          8.131842431841875,
          1.090826082122133,
          -0.8900329893940189,
          8.068391849273375,
          4.227855656449976,
          5.454642085896056,
          -2.3945774166397906,
          0.0562111985808791,
          -2.4679547148408005,
          2.5607498292367126,
          -3.852193880265412,
          0.4184226147975697,
          -1.2082918652223382,
          -2.0751356052127563,
          -4.423920917374896,
          -3.789845639299464,
          0.16943698971123722,
          0.15829363060155247,
          5.950823680563712,
          3.409681401947471,
          -0.1979268877120621,
          0.6572025969133591,
          -0.9142866052874714,
          2.0629618671166217,
          2.6758122618061937,
          -0.7160116640355302,
          -3.2998413121933403,
          0.8287273797002075,
          2.418857962465203,
          2.05973708735346,
          -2.3940090925381083,
          0.10246177085737157,
          1.0778143490392316,
          -2.636113337326859,
          0.5210549502213678,
          9.346323677591146,
          6.493572504961154,
          -1.9282361922064148,
          -3.9727106958206386,
          -0.5214195238508234,
          -3.5204977239172566,
          -0.8100960711141453,
          2.131912855517397,
          -0.04369611855778174,
          -2.2814621633135217,
          0.5369314271276932,
          -1.264760670412759,
          -2.0109799099909154,
          -0.8116090447082244,
          -1.3224643914196161,
          0.8428945850891146,
          -1.7709243678829008,
          -1.9705399054090207,
          -4.628374529489089,
          -2.3378877766067236,
          -1.6910753937211476,
          -3.4316136498858487,
          -3.759735032380641,
          0.049099549335700786,
          -3.3264633592955026,
          -4.613612476798561,
          -9.590271562129722
         ],
         "z": [
          4.22854442941251,
          1.4647818036391258,
          11.082359920282647,
          3.3905103388090962,
          0.10824499649302796,
          1.3879669038101328,
          4.714759676124727,
          -0.8382039005915217,
          7.917523072387915,
          2.0992064343301946,
          4.609275503679654,
          -2.500293819955348,
          2.443038014646947,
          3.4859008060258367,
          -1.8764219273775695,
          3.6674804603115017,
          -0.8426513789996237,
          -2.1732436751826887,
          -0.3102771709959764,
          -0.7249966677694075,
          -0.44080831221322814,
          -1.7783421992370847,
          1.29246145742467,
          -2.4397760693862813,
          -1.5193034701952808,
          -0.8378173045009287,
          8.282329990899859,
          -0.2676288747860866,
          -0.658330033475353,
          -4.561067059606008,
          4.292028779561679,
          5.286723926002179,
          4.672690082051767,
          -1.0058073435128199,
          -1.1428787477150741,
          -3.0116299509142848,
          3.3084313998927755,
          -1.3205018210091068,
          -1.2378179182615798,
          -2.0133820395848305,
          2.554951898027049,
          5.282626112920244,
          -0.33073902469604577,
          -4.185822728053694,
          2.729135503390378,
          1.9625638413196271,
          8.116110320529474,
          1.281453567305554,
          -1.479896624583979,
          0.31579117634599013,
          0.14834690295099007,
          -4.508885810844418,
          -0.2320365208362424,
          -0.2120911395523105,
          -0.2967631416349828,
          -3.0272148502801954,
          5.836031581630723,
          2.684272738333404,
          -3.3183779792583366,
          -0.8847897268013345,
          2.3468959397218576,
          -0.29495457655948465,
          -1.886367146033647,
          -0.9904668058642048,
          -1.8691817587640056,
          3.87744200840334,
          4.109644270538972,
          -1.5724965280817973,
          4.218189200233892,
          1.5617757434630233,
          -1.1845639139427002,
          -2.641118877860804,
          -3.384407180783106,
          3.4617987300786868,
          0.35506847238863276,
          1.4002472100401009,
          -0.14859752291525283,
          4.062075854079581,
          -0.5225730131501176,
          0.1535373140062763,
          -2.1103003368081463,
          -1.2438154692251213,
          0.937985399411957,
          -0.7426226749259115,
          -2.50083658365274,
          -0.16453036695688342,
          0.02597427863564277,
          2.118178041000552,
          1.9974147315185797,
          -3.753883094848246,
          3.2713051923748564,
          4.7072641814948915,
          0.21281070085351586,
          -0.002841833318179137,
          -0.4975042154185451,
          -0.1756020830778667,
          -0.18641135016007676,
          1.7859557006360827,
          -0.8502406575865427,
          -1.5751640543385186,
          0.04886130737912885,
          0.4410907572830868,
          1.5506593109860451,
          -1.2100561588454208,
          -0.21961536433695172,
          0.043094308609646595,
          1.5823373865903845,
          -1.049482380005848,
          -1.4063484914602966,
          1.1866800695747055,
          -1.4377492681795347,
          0.006676261575324069,
          1.8236808014238926,
          1.1140175797828762,
          0.4500273842545355,
          -0.48024070200180724,
          1.9556222423042156,
          -1.0937917542066253,
          0.08362527521655892,
          0.616571879378863,
          0.9775299350794515,
          -1.5629333870762276,
          -1.3207853229205708,
          2.4377426325529243,
          1.7996769254436742,
          2.476338163286484,
          0.3394777252266294,
          0.43313658080803336,
          2.7769101502337237,
          0.3421948214191509,
          -0.801987699450663,
          1.0449448594421364,
          0.4492375020589771,
          1.014437852419199
         ]
        },
        {
         "customdata": [
          [
           "PHI"
          ],
          [
           "ORL"
          ],
          [
           "MIN"
          ],
          [
           "DEN"
          ],
          [
           "WAS"
          ],
          [
           "MIA"
          ],
          [
           "HOU"
          ],
          [
           "MIL"
          ],
          [
           "PHX"
          ],
          [
           "MIN"
          ],
          [
           "CLE"
          ],
          [
           "NOP"
          ],
          [
           "POR"
          ],
          [
           "UTA"
          ],
          [
           "CLE"
          ],
          [
           "SAS"
          ],
          [
           "DET"
          ],
          [
           "BRK"
          ],
          [
           "ORL"
          ],
          [
           "BOS"
          ],
          [
           "IND"
          ],
          [
           "LAC"
          ],
          [
           "OKC"
          ],
          [
           "CHA"
          ],
          [
           "MEM"
          ],
          [
           "MIN"
          ],
          [
           "SAS"
          ],
          [
           "PHX"
          ],
          [
           "OKC"
          ],
          [
           "MEM"
          ],
          [
           "ORL"
          ],
          [
           "GSW"
          ],
          [
           "NYK"
          ],
          [
           "WAS"
          ],
          [
           "POR"
          ],
          [
           "DEN"
          ],
          [
           "UTA"
          ],
          [
           "IND"
          ],
          [
           "MIL"
          ],
          [
           "DAL"
          ],
          [
           "TOR"
          ],
          [
           "HOU"
          ],
          [
           "BOS"
          ]
         ],
         "hovertemplate": "<b>%{hovertext}</b><br><br>Position=C<br>2=%{z}<extra></extra>",
         "hovertext": [
          "Joel Embiid",
          "Paolo Banchero",
          "Karl-Anthony Towns",
          "Nikola Jokic",
          "Kristaps Porzingis",
          "Bam Adebayo",
          "Alperen Sengun",
          "Brook Lopez",
          "Deandre Ayton",
          "Rudy Gobert",
          "Jarrett Allen",
          "Jonas Valanciunas",
          "Jusuf Nurkic",
          "Kelly Olynyk",
          "Kevin Love",
          "Jakob Poeltl",
          "Isaiah Stewart II",
          "Nicolas Claxton",
          "Bol Bol",
          "Al Horford",
          "Jalen Smith",
          "Ivica Zubac",
          "Aleksej Pokusevski",
          "Nick Richards",
          "Santi Aldama",
          "Naz Reid",
          "Zach Collins",
          "Jock Landale",
          "Mike Muscala",
          "Steven Adams",
          "Mohamed Bamba",
          "James Wiseman",
          "Mitchell Robinson",
          "Daniel Gafford",
          "Drew Eubanks",
          "DeAndre Jordan",
          "Walker Kessler",
          "Goga Bitadze",
          "Serge Ibaka",
          "JaVale McGee",
          "Christian Koloko",
          "Usman Garuba",
          "Noah Vonleh"
         ],
         "legendgroup": "C",
         "marker": {
          "color": "#EF553B",
          "size": 5,
          "symbol": "circle"
         },
         "mode": "markers",
         "name": "C",
         "scene": "scene",
         "showlegend": true,
         "type": "scatter3d",
         "x": [
          28.109406456345518,
          20.064206910264872,
          17.321753910223517,
          14.445594304764779,
          14.026790468122446,
          15.232059770034448,
          6.0311150422232584,
          9.136528208785041,
          5.195357249512524,
          8.279154026684491,
          8.5429539817075,
          3.1037172778133173,
          5.985652428026075,
          2.1347138533386714,
          -0.3943199086397899,
          4.002779649007479,
          3.1135454867342514,
          2.3263308389316864,
          -0.3583935233571201,
          4.532175761672019,
          0.2516254642523643,
          3.556288937630091,
          -0.8361462517790296,
          -5.790057910613241,
          1.0108354074579964,
          -11.166271195095614,
          -7.331357106268853,
          -10.147183108103995,
          -11.111190864635756,
          -1.77399148679776,
          -10.638314904594726,
          -12.318898317537572,
          -7.113183765751502,
          -12.636984241999649,
          -11.207973687612762,
          -13.777049890327108,
          -12.80161853004363,
          -14.564166529456742,
          -15.758972774715872,
          -17.48542864177838,
          -12.36672791647002,
          -13.665829155941461,
          -18.979193693264158
         ],
         "y": [
          -8.476781125211488,
          -2.6104945104194948,
          0.8124206315800749,
          -0.6325192023683994,
          -1.5683990302239508,
          3.139776652122493,
          -0.5232389599617764,
          2.4324669260790066,
          0.9692401537477933,
          6.716196881108486,
          6.220532560935295,
          0.22061068926313793,
          4.331235600889595,
          2.2308596947151145,
          -1.6447009343103298,
          5.061612365286166,
          3.6816703182433206,
          4.617915219082802,
          1.958007839827467,
          6.140381943696319,
          0.9103606993360005,
          7.980906070428192,
          1.864276935729121,
          -0.5039886570424685,
          4.833758607839669,
          -5.687948045466492,
          -1.9705930028780427,
          -2.573483395823838,
          -3.714992421725135,
          8.589103221338297,
          -1.9295257326963557,
          -3.412474524090902,
          3.087063303803857,
          -1.0007240675941944,
          1.0658607635245212,
          -1.7306695085842676,
          -0.6789127700242729,
          -2.7247191730508855,
          -2.7608449917578657,
          -4.721510621723748,
          1.818985906296468,
          0.9302322908449231,
          -1.3366277746405784
         ],
         "z": [
          9.013260093808526,
          4.748486354471501,
          3.236434331755219,
          5.807303795863729,
          2.9031650840166843,
          5.603143545591623,
          6.460749004980746,
          -0.77095168318344,
          4.106504646930238,
          9.879338133536072,
          7.509035574825899,
          7.365502467485785,
          7.223526218458882,
          -0.10537114408990361,
          2.338603054690338,
          6.120179575140868,
          4.911061075037513,
          6.02869216805885,
          4.31649968969776,
          -0.5742218248285741,
          2.742816318476537,
          7.350897358313358,
          0.7344403882907279,
          4.664582704981856,
          0.6078327165176336,
          1.089306033598002,
          1.7726630645699926,
          2.4308452192608643,
          1.3709394623698037,
          7.107999337078092,
          1.6709450998972037,
          3.2813710514981818,
          3.8354830967634865,
          3.0318615245118115,
          2.0923990829276042,
          3.998531438609471,
          4.020408303399206,
          2.0233998836094913,
          1.9031525610082456,
          2.8743144945810335,
          1.4253022894930822,
          3.3341938815657266,
          1.8197064766218916
         ]
        },
        {
         "customdata": [
          [
           "CLE"
          ],
          [
           "OKC"
          ],
          [
           "GSW"
          ],
          [
           "MEM"
          ],
          [
           "POR"
          ],
          [
           "ATL"
          ],
          [
           "BRK"
          ],
          [
           "PHX"
          ],
          [
           "SAC"
          ],
          [
           "MEM"
          ],
          [
           "PHI"
          ],
          [
           "POR"
          ],
          [
           "PHI"
          ],
          [
           "HOU"
          ],
          [
           "CHI"
          ],
          [
           "WAS"
          ],
          [
           "ATL"
          ],
          [
           "IND"
          ],
          [
           "MIL"
          ],
          [
           "MIA"
          ],
          [
           "NYK"
          ],
          [
           "SAS"
          ],
          [
           "NYK"
          ],
          [
           "IND"
          ],
          [
           "DAL"
          ],
          [
           "TOR"
          ],
          [
           "UTA"
          ],
          [
           "NOP"
          ],
          [
           "GSW"
          ],
          [
           "TOR"
          ],
          [
           "LAL"
          ],
          [
           "LAL"
          ],
          [
           "DEN"
          ],
          [
           "DET"
          ],
          [
           "PHX"
          ],
          [
           "OKC"
          ],
          [
           "GSW"
          ],
          [
           "MIA"
          ],
          [
           "MIN"
          ],
          [
           "OKC"
          ],
          [
           "UTA"
          ],
          [
           "DEN"
          ],
          [
           "CLE"
          ],
          [
           "BOS"
          ],
          [
           "MIA"
          ],
          [
           "PHX"
          ],
          [
           "LAC"
          ],
          [
           "SAS"
          ],
          [
           "LAC"
          ],
          [
           "UTA"
          ],
          [
           "HOU"
          ],
          [
           "DEN"
          ],
          [
           "SAC"
          ],
          [
           "PHX"
          ],
          [
           "DAL"
          ],
          [
           "CHI"
          ],
          [
           "NOP"
          ],
          [
           "BOS"
          ],
          [
           "SAS"
          ],
          [
           "OKC"
          ],
          [
           "MEM"
          ],
          [
           "MIN"
          ],
          [
           "UTA"
          ],
          [
           "LAC"
          ],
          [
           "CHA"
          ],
          [
           "MIL"
          ],
          [
           "CHI"
          ],
          [
           "DEN"
          ],
          [
           "MIA"
          ],
          [
           "PHX"
          ],
          [
           "MIL"
          ],
          [
           "CHI"
          ],
          [
           "BOS"
          ],
          [
           "IND"
          ],
          [
           "POR"
          ],
          [
           "NYK"
          ],
          [
           "PHI"
          ],
          [
           "WAS"
          ],
          [
           "LAL"
          ],
          [
           "OKC"
          ],
          [
           "LAC"
          ],
          [
           "NYK"
          ],
          [
           "CHI"
          ],
          [
           "BRK"
          ],
          [
           "BRK"
          ],
          [
           "NOP"
          ],
          [
           "SAS"
          ],
          [
           "MIL"
          ],
          [
           "PHX"
          ],
          [
           "PHX"
          ],
          [
           "LAC"
          ],
          [
           "NYK"
          ],
          [
           "ATL"
          ],
          [
           "WAS"
          ],
          [
           "ORL"
          ],
          [
           "MEM"
          ],
          [
           "SAC"
          ],
          [
           "IND"
          ],
          [
           "GSW"
          ],
          [
           "TOR"
          ],
          [
           "WAS"
          ],
          [
           "DAL"
          ],
          [
           "NYK"
          ],
          [
           "CHI"
          ],
          [
           "GSW"
          ],
          [
           "CHA"
          ],
          [
           "DET"
          ],
          [
           "BRK"
          ],
          [
           "DET"
          ],
          [
           "MIL"
          ],
          [
           "ATL"
          ],
          [
           "NOP"
          ],
          [
           "CHA"
          ],
          [
           "LAL"
          ],
          [
           "DAL"
          ],
          [
           "LAL"
          ],
          [
           "CHI"
          ],
          [
           "PHI"
          ],
          [
           "HOU"
          ],
          [
           "IND"
          ],
          [
           "OKC"
          ],
          [
           "DET"
          ],
          [
           "MIL"
          ],
          [
           "OKC"
          ],
          [
           "HOU"
          ],
          [
           "MIN"
          ],
          [
           "CLE"
          ],
          [
           "PHX"
          ],
          [
           "SAC"
          ]
         ],
         "hovertemplate": "<b>%{hovertext}</b><br><br>Position=G<br>2=%{z}<extra></extra>",
         "hovertext": [
          "Donovan Mitchell",
          "Shai Gilgeous-Alexander",
          "Stephen Curry",
          "Ja Morant",
          "Damian Lillard",
          "Trae Young",
          "Kyrie Irving",
          "Devin Booker",
          "De'Aaron Fox",
          "Desmond Bane",
          "Tyrese Maxey",
          "Anfernee Simons",
          "James Harden",
          "Jalen Green",
          "Zach LaVine",
          "Bradley Beal",
          "Dejounte Murray",
          "Tyrese Haliburton",
          "Jrue Holiday",
          "Tyler Herro",
          "Jalen Brunson",
          "Devin Vassell",
          "R.J. Barrett",
          "Buddy Hield",
          "Spencer Dinwiddie",
          "Fred VanVleet",
          "Jordan Clarkson",
          "C.J. McCollum",
          "Jordan Poole",
          "Gary Trent, Jr.",
          "Lonnie Walker",
          "Russell Westbrook",
          "Jamal Murray",
          "Jaden Ivey",
          "Mikal Bridges",
          "Josh Giddey",
          "Klay Thompson",
          "Max Strus",
          "D'Angelo Russell",
          "Luguentz Dort",
          "Collin Sexton",
          "Bones Hyland",
          "Caris LeVert",
          "Malcolm Brogdon",
          "Kyle Lowry",
          "Cameron Johnson",
          "John Wall",
          "Tre Jones",
          "Norman Powell",
          "Malik Beasley",
          "Eric Gordon",
          "Kentavious Caldwell-Pope",
          "Malik Monk",
          "Cameron Payne",
          "Tim Hardaway Jr.",
          "Ayo Dosunmu",
          "Trey Murphy III",
          "Marcus Smart",
          "Josh Richardson",
          "Tre Mann",
          "Tyus Jones",
          "Jaylen Nowell",
          "Mike Conley",
          "Reggie Jackson",
          "Dennis Smith",
          "Grayson Allen",
          "Goran Dragic",
          "Bruce Brown, Jr.",
          "Gabe Vincent",
          "Chris Paul",
          "Jevon Carter",
          "Patrick Williams",
          "Derrick White",
          "Chris Duarte",
          "Josh Hart",
          "Immanuel Quickley",
          "De'Anthony Melton",
          "Monte Morris",
          "Austin Reaves",
          "Jalen Williams",
          "Luke Kennard",
          "Cam Reddish",
          "Coby White",
          "Joe Harris",
          "Edmond Sumner",
          "Jose Alvarado",
          "Jeremy Sochan",
          "MarJon Beauchamp",
          "Damion Lee",
          "Landry Shamet",
          "Terance Mann",
          "Evan Fournier",
          "A.J. Griffin, Jr.",
          "Deni Avdija",
          "R.J. Hampton",
          "John Konchar",
          "Davion Mitchell",
          "Andrew Nembhard",
          "Moses Moody",
          "Dalano Banton",
          "Delon Wright",
          "Josh Green",
          "Derrick Rose",
          "Javonte Green",
          "Ty Jerome",
          "James Bouknight",
          "Hamidou Diallo",
          "Patty Mills",
          "Killian Hayes",
          "George Hill",
          "Aaron Holiday",
          "Devonte' Graham",
          "Theo Maledon",
          "Kendrick Nunn",
          "Reggie Bullock",
          "Patrick Beverley",
          "Alex Caruso",
          "Shake Milton",
          "Garrison Mathews",
          "T.J. McConnell",
          "Isaiah Joe",
          "Cory Joseph",
          "Wesley Matthews",
          "Ousmane Dieng",
          "Josh Christopher",
          "Jordan McLaughlin",
          "Isaac Okoro",
          "Josh Okogie",
          "KZ Okpala"
         ],
         "legendgroup": "G",
         "marker": {
          "color": "#00cc96",
          "size": 5,
          "symbol": "circle"
         },
         "mode": "markers",
         "name": "G",
         "scene": "scene",
         "showlegend": true,
         "type": "scatter3d",
         "x": [
          29.597494744538956,
          26.88935185504672,
          26.686102923019927,
          23.797841851516022,
          24.18959533333148,
          24.541652142022716,
          25.986739844382825,
          23.72286767303249,
          19.46653706567662,
          19.551189158767773,
          20.631447691113383,
          19.42159096679157,
          20.13825627982322,
          17.980472944164266,
          17.174940920151087,
          16.971482277254903,
          20.102035323302943,
          16.335814321347154,
          15.557955212906506,
          13.455597834331622,
          13.810578662090144,
          12.887053133807179,
          14.807014261910428,
          12.685021508664473,
          12.82580245051478,
          15.800375256309874,
          11.735966521596842,
          16.54198280558311,
          8.765376014059227,
          10.332635220684118,
          9.139067611473909,
          9.795638913802817,
          8.539547338620832,
          10.317011402688124,
          11.787869946610808,
          9.057232690021813,
          7.902348479948198,
          9.10608364631333,
          7.9584522151813895,
          7.807374386300494,
          0.7743477651494983,
          0.45967950257091816,
          10.22337622184531,
          1.3891788247570316,
          9.709862089406917,
          2.115541285057122,
          0.799393267670853,
          5.664155267792197,
          1.5226055376447019,
          1.754161341664762,
          4.332588102177442,
          4.247018599923427,
          -1.019421304400873,
          -0.6010135267608058,
          0.699068939419095,
          4.315731162297663,
          2.6107059124418153,
          6.38180361811717,
          -0.7041018892546357,
          0.19329454043079294,
          -0.9362139316695379,
          -3.9927245369041,
          4.062437161982414,
          2.7233750162337795,
          2.8473740551384656,
          -0.9770272274076806,
          -4.6903716046282256,
          1.174110508652605,
          -0.34577407222765016,
          3.1181250894695713,
          -0.0316406964507393,
          -1.65306797319913,
          -1.6384728776299768,
          -5.720095034862548,
          6.614146456695819,
          -3.4115176710192388,
          -2.0689704780654035,
          0.1887619744322695,
          -1.8937236432336475,
          -4.476888632124146,
          -4.746569740861288,
          -5.381518075938621,
          -4.710530794340644,
          -1.8563048788354417,
          -8.50762230873263,
          -7.542721633498332,
          -3.9691465669882295,
          -7.944255753505561,
          -8.19233275516174,
          -10.299150855545674,
          -8.920690733604175,
          -6.949931605143723,
          -13.023703305155378,
          -5.169706005529522,
          -11.783150068674201,
          -3.4068178623249596,
          -8.551133721957953,
          -7.538651079543067,
          -9.454088699688116,
          -14.448330666878388,
          -5.981852795611195,
          -9.827063123994035,
          -12.239597496735346,
          -10.477890342498533,
          -12.599559615780896,
          -9.053445609465136,
          -12.423902022798872,
          -14.087613282975957,
          -7.450388504044208,
          -7.368426854072867,
          -10.266715916139667,
          -12.01323997493105,
          -13.854647223898018,
          -13.247665784691776,
          -3.5171336082671774,
          -3.7258183153607227,
          -5.949467609159386,
          -15.66651416997773,
          -16.2467490675521,
          -12.828134806225155,
          -20.65919747161253,
          -16.214452839471686,
          -13.287291658132617,
          -14.15267124154065,
          -18.78540354156026,
          -13.828237022814319,
          -14.741852115485795,
          -23.39967820392379,
          -23.46506999192707
         ],
         "y": [
          -6.6177469913602245,
          -8.196197466043113,
          -8.425648812677961,
          -8.68709209274913,
          -7.844917839277239,
          -7.753684450483003,
          -4.394832699972013,
          -4.0820566178726985,
          -5.550629309063365,
          -4.749875639217716,
          -0.9173297753992871,
          -2.4790371531404873,
          -0.7534458906686577,
          -2.431311217392092,
          -3.259306343421257,
          -1.8037411132598855,
          0.3736207306187469,
          -0.9277968238714387,
          -1.4484204372181826,
          -1.8760865801492532,
          -1.1900080472174712,
          -3.005368487687552,
          0.09812746760662523,
          -0.8956620008855617,
          0.055730246992722485,
          1.3780906030992326,
          -1.4459372041340823,
          1.7910514872581298,
          -2.6591021467194045,
          -0.11617650201382791,
          -0.5037334478269586,
          -1.074314941412615,
          -1.8587058804863326,
          1.223844325647173,
          6.11268873849935,
          1.6291756774641426,
          -1.5854936483033875,
          3.3778694743570252,
          0.8533394366495736,
          1.7689893975223154,
          -3.543925804586733,
          -6.35273852294908,
          4.891401783202901,
          -3.205874228597277,
          6.223075686479709,
          -1.6676631944687101,
          -3.8151627975184548,
          3.1555226022948166,
          -0.5209596809194279,
          0.5106573330875934,
          2.485826377830803,
          4.563706603071316,
          -2.9711015272567494,
          -3.045309962752994,
          -2.119029362148301,
          4.132225894302854,
          3.369916205517652,
          5.471380293478137,
          -1.0469431751050184,
          -0.49715614169615957,
          -0.9445136142811116,
          -4.271833621060448,
          3.935959725186263,
          3.1867287067263117,
          4.475831987396209,
          1.3548111119483943,
          -2.6340740619880276,
          3.5485754724520513,
          1.909555753028341,
          4.827114251716532,
          3.2674663164024484,
          2.763611204489134,
          3.1712949850362073,
          -2.5605159779414985,
          11.712046120112372,
          0.1141452169437233,
          2.193606456090669,
          4.497077015557334,
          4.295757184190752,
          1.0209328283141015,
          1.8259338611258848,
          -0.008769228482786709,
          -1.0826972980133198,
          4.232496988698273,
          -2.588568386888657,
          -0.9524146378541909,
          3.1923321787975474,
          -1.520199479426559,
          0.0461490850262098,
          -3.5363215422186194,
          0.06776872976148243,
          0.028746113948734997,
          -5.055486423645599,
          2.9009525926523323,
          -3.094991964307145,
          5.678548425941125,
          -0.6939653019498865,
          0.41297055923557857,
          -1.145437624993687,
          -5.679537286862324,
          0.7357799258799846,
          0.6004017430553309,
          -3.907366010285826,
          0.352593800926,
          -3.26301487005979,
          -0.21351319631135993,
          -2.2480832519605247,
          -3.415237028837195,
          2.137529226638768,
          3.5020043383836996,
          1.6076824132455811,
          -0.7167251205829035,
          -1.3020041717753834,
          -3.4207067422813577,
          7.971834931204865,
          7.618416794616403,
          6.516724250274232,
          -2.7941516010034753,
          -2.957176854755688,
          -0.30408170948799096,
          -6.669033887337088,
          -2.4099014159397942,
          0.7033594307622079,
          -1.0013329068225452,
          -5.20952707260359,
          0.11027661016727607,
          0.9212713905007149,
          -5.104813441974068,
          -5.087930234686539
         ],
         "z": [
          -3.2279973374000015,
          1.6879485728947028,
          -1.4002220176847553,
          2.102059142093638,
          -0.9182855848548349,
          -2.8684322696430984,
          -3.0452734088725375,
          -1.3229636362349855,
          0.1719404263571472,
          -2.234876304167004,
          -4.35208597337555,
          -6.471885418306791,
          0.25021852030007824,
          -3.49824409365876,
          -3.2904242385848987,
          -2.0625657534185,
          -1.592175983455148,
          -3.160683183868576,
          -2.1017251696061905,
          -0.04153857009042811,
          -1.5188547622996398,
          -3.2025577713960525,
          -0.8832293190359471,
          -3.8537452356196824,
          -4.278940236319615,
          -5.318790815173936,
          -3.7555529895643924,
          -3.2976448659182656,
          -4.440759251573394,
          -5.12346731127357,
          -3.413549714557087,
          0.16782866637528998,
          -2.57832877801028,
          -0.5809574605690768,
          -0.986199035850225,
          1.0819029079473352,
          -5.639120644714539,
          -4.8419942596911145,
          -3.4801839905524,
          -2.0345928092172674,
          0.1398834030416737,
          -2.9889029586051454,
          -2.3687163369327746,
          0.12913360152079234,
          -3.058185093841381,
          -3.0176441182148346,
          -1.7576738690572289,
          -1.5042264132097913,
          -1.3902601980680795,
          -3.5766491744047335,
          -4.43617578024925,
          -3.162837361159945,
          -2.7642754741579854,
          -2.677392277549366,
          -4.2315354652750665,
          -2.500775443933337,
          -2.0852950380375415,
          -4.215206969575786,
          -2.6554236362628063,
          -3.0134680302942547,
          -3.6550309259478144,
          -1.1325817683264592,
          -4.969782227282164,
          -4.235783364339019,
          -2.309856694014372,
          -2.4987663873324872,
          -2.2082776393566514,
          -1.9387764125771039,
          -3.4544325797092093,
          -1.2921427490982609,
          -3.666313174459313,
          -1.195413866970782,
          -1.9597984293125246,
          -2.088190385077365,
          2.3827325379493365,
          0.4457006582919816,
          -1.493288418382161,
          -1.778000086494818,
          -1.3873131457834917,
          -1.4585544433191062,
          -1.9621912212363704,
          -2.2610093711056276,
          -3.475238308293043,
          -3.040366849115766,
          -0.9344667431622327,
          -2.098333348846518,
          -0.6446757884662914,
          -0.1811525446404167,
          -1.6150272343757484,
          -2.676591080119604,
          0.25718580664176843,
          -2.795932780220066,
          -0.8784747352461008,
          0.22312513623710883,
          -0.6767348832589872,
          -0.6126872231312795,
          -2.718383448969328,
          -2.1959550584386363,
          -1.321674619482574,
          -0.21081579475616294,
          -2.1473866821805654,
          -0.53214304084437,
          -0.9552962195995424,
          0.5275153527680352,
          -1.1907510412215583,
          -1.7282318703794226,
          1.6761084166480753,
          -2.221610551970725,
          -1.8660058109027033,
          -1.9965745262413053,
          -1.8721467803133212,
          -2.565111432100741,
          0.041189276989661606,
          -1.777021942228634,
          -3.979905302103425,
          -2.163636993150956,
          -1.7270558539336296,
          0.4711695050166099,
          -1.859391890250564,
          -0.20425500675618896,
          0.44234491553162125,
          -1.0328338863007462,
          -1.3779634067166677,
          -1.1031070414374688,
          0.1699823073738347,
          -1.0470756301113695,
          -0.8755540958442842,
          0.9846272931755542,
          0.36379253017049584
         ]
        }
       ],
       "layout": {
        "legend": {
         "title": {
          "text": "Position"
         },
         "tracegroupgap": 0
        },
        "margin": {
         "t": 60
        },
        "scene": {
         "domain": {
          "x": [
           0,
           1
          ],
          "y": [
           0,
           1
          ]
         },
         "xaxis": {
          "title": {
           "text": "0"
          }
         },
         "yaxis": {
          "title": {
           "text": "1"
          }
         },
         "zaxis": {
          "title": {
           "text": "2"
          }
         }
        },
        "template": {
         "data": {
          "bar": [
           {
            "error_x": {
             "color": "#2a3f5f"
            },
            "error_y": {
             "color": "#2a3f5f"
            },
            "marker": {
             "line": {
              "color": "#E5ECF6",
              "width": 0.5
             },
             "pattern": {
              "fillmode": "overlay",
              "size": 10,
              "solidity": 0.2
             }
            },
            "type": "bar"
           }
          ],
          "barpolar": [
           {
            "marker": {
             "line": {
              "color": "#E5ECF6",
              "width": 0.5
             },
             "pattern": {
              "fillmode": "overlay",
              "size": 10,
              "solidity": 0.2
             }
            },
            "type": "barpolar"
           }
          ],
          "carpet": [
           {
            "aaxis": {
             "endlinecolor": "#2a3f5f",
             "gridcolor": "white",
             "linecolor": "white",
             "minorgridcolor": "white",
             "startlinecolor": "#2a3f5f"
            },
            "baxis": {
             "endlinecolor": "#2a3f5f",
             "gridcolor": "white",
             "linecolor": "white",
             "minorgridcolor": "white",
             "startlinecolor": "#2a3f5f"
            },
            "type": "carpet"
           }
          ],
          "choropleth": [
           {
            "colorbar": {
             "outlinewidth": 0,
             "ticks": ""
            },
            "type": "choropleth"
           }
          ],
          "contour": [
           {
            "colorbar": {
             "outlinewidth": 0,
             "ticks": ""
            },
            "colorscale": [
             [
              0,
              "#0d0887"
             ],
             [
              0.1111111111111111,
              "#46039f"
             ],
             [
              0.2222222222222222,
              "#7201a8"
             ],
             [
              0.3333333333333333,
              "#9c179e"
             ],
             [
              0.4444444444444444,
              "#bd3786"
             ],
             [
              0.5555555555555556,
              "#d8576b"
             ],
             [
              0.6666666666666666,
              "#ed7953"
             ],
             [
              0.7777777777777778,
              "#fb9f3a"
             ],
             [
              0.8888888888888888,
              "#fdca26"
             ],
             [
              1,
              "#f0f921"
             ]
            ],
            "type": "contour"
           }
          ],
          "contourcarpet": [
           {
            "colorbar": {
             "outlinewidth": 0,
             "ticks": ""
            },
            "type": "contourcarpet"
           }
          ],
          "heatmap": [
           {
            "colorbar": {
             "outlinewidth": 0,
             "ticks": ""
            },
            "colorscale": [
             [
              0,
              "#0d0887"
             ],
             [
              0.1111111111111111,
              "#46039f"
             ],
             [
              0.2222222222222222,
              "#7201a8"
             ],
             [
              0.3333333333333333,
              "#9c179e"
             ],
             [
              0.4444444444444444,
              "#bd3786"
             ],
             [
              0.5555555555555556,
              "#d8576b"
             ],
             [
              0.6666666666666666,
              "#ed7953"
             ],
             [
              0.7777777777777778,
              "#fb9f3a"
             ],
             [
              0.8888888888888888,
              "#fdca26"
             ],
             [
              1,
              "#f0f921"
             ]
            ],
            "type": "heatmap"
           }
          ],
          "heatmapgl": [
           {
            "colorbar": {
             "outlinewidth": 0,
             "ticks": ""
            },
            "colorscale": [
             [
              0,
              "#0d0887"
             ],
             [
              0.1111111111111111,
              "#46039f"
             ],
             [
              0.2222222222222222,
              "#7201a8"
             ],
             [
              0.3333333333333333,
              "#9c179e"
             ],
             [
              0.4444444444444444,
              "#bd3786"
             ],
             [
              0.5555555555555556,
              "#d8576b"
             ],
             [
              0.6666666666666666,
              "#ed7953"
             ],
             [
              0.7777777777777778,
              "#fb9f3a"
             ],
             [
              0.8888888888888888,
              "#fdca26"
             ],
             [
              1,
              "#f0f921"
             ]
            ],
            "type": "heatmapgl"
           }
          ],
          "histogram": [
           {
            "marker": {
             "pattern": {
              "fillmode": "overlay",
              "size": 10,
              "solidity": 0.2
             }
            },
            "type": "histogram"
           }
          ],
          "histogram2d": [
           {
            "colorbar": {
             "outlinewidth": 0,
             "ticks": ""
            },
            "colorscale": [
             [
              0,
              "#0d0887"
             ],
             [
              0.1111111111111111,
              "#46039f"
             ],
             [
              0.2222222222222222,
              "#7201a8"
             ],
             [
              0.3333333333333333,
              "#9c179e"
             ],
             [
              0.4444444444444444,
              "#bd3786"
             ],
             [
              0.5555555555555556,
              "#d8576b"
             ],
             [
              0.6666666666666666,
              "#ed7953"
             ],
             [
              0.7777777777777778,
              "#fb9f3a"
             ],
             [
              0.8888888888888888,
              "#fdca26"
             ],
             [
              1,
              "#f0f921"
             ]
            ],
            "type": "histogram2d"
           }
          ],
          "histogram2dcontour": [
           {
            "colorbar": {
             "outlinewidth": 0,
             "ticks": ""
            },
            "colorscale": [
             [
              0,
              "#0d0887"
             ],
             [
              0.1111111111111111,
              "#46039f"
             ],
             [
              0.2222222222222222,
              "#7201a8"
             ],
             [
              0.3333333333333333,
              "#9c179e"
             ],
             [
              0.4444444444444444,
              "#bd3786"
             ],
             [
              0.5555555555555556,
              "#d8576b"
             ],
             [
              0.6666666666666666,
              "#ed7953"
             ],
             [
              0.7777777777777778,
              "#fb9f3a"
             ],
             [
              0.8888888888888888,
              "#fdca26"
             ],
             [
              1,
              "#f0f921"
             ]
            ],
            "type": "histogram2dcontour"
           }
          ],
          "mesh3d": [
           {
            "colorbar": {
             "outlinewidth": 0,
             "ticks": ""
            },
            "type": "mesh3d"
           }
          ],
          "parcoords": [
           {
            "line": {
             "colorbar": {
              "outlinewidth": 0,
              "ticks": ""
             }
            },
            "type": "parcoords"
           }
          ],
          "pie": [
           {
            "automargin": true,
            "type": "pie"
           }
          ],
          "scatter": [
           {
            "fillpattern": {
             "fillmode": "overlay",
             "size": 10,
             "solidity": 0.2
            },
            "type": "scatter"
           }
          ],
          "scatter3d": [
           {
            "line": {
             "colorbar": {
              "outlinewidth": 0,
              "ticks": ""
             }
            },
            "marker": {
             "colorbar": {
              "outlinewidth": 0,
              "ticks": ""
             }
            },
            "type": "scatter3d"
           }
          ],
          "scattercarpet": [
           {
            "marker": {
             "colorbar": {
              "outlinewidth": 0,
              "ticks": ""
             }
            },
            "type": "scattercarpet"
           }
          ],
          "scattergeo": [
           {
            "marker": {
             "colorbar": {
              "outlinewidth": 0,
              "ticks": ""
             }
            },
            "type": "scattergeo"
           }
          ],
          "scattergl": [
           {
            "marker": {
             "colorbar": {
              "outlinewidth": 0,
              "ticks": ""
             }
            },
            "type": "scattergl"
           }
          ],
          "scattermapbox": [
           {
            "marker": {
             "colorbar": {
              "outlinewidth": 0,
              "ticks": ""
             }
            },
            "type": "scattermapbox"
           }
          ],
          "scatterpolar": [
           {
            "marker": {
             "colorbar": {
              "outlinewidth": 0,
              "ticks": ""
             }
            },
            "type": "scatterpolar"
           }
          ],
          "scatterpolargl": [
           {
            "marker": {
             "colorbar": {
              "outlinewidth": 0,
              "ticks": ""
             }
            },
            "type": "scatterpolargl"
           }
          ],
          "scatterternary": [
           {
            "marker": {
             "colorbar": {
              "outlinewidth": 0,
              "ticks": ""
             }
            },
            "type": "scatterternary"
           }
          ],
          "surface": [
           {
            "colorbar": {
             "outlinewidth": 0,
             "ticks": ""
            },
            "colorscale": [
             [
              0,
              "#0d0887"
             ],
             [
              0.1111111111111111,
              "#46039f"
             ],
             [
              0.2222222222222222,
              "#7201a8"
             ],
             [
              0.3333333333333333,
              "#9c179e"
             ],
             [
              0.4444444444444444,
              "#bd3786"
             ],
             [
              0.5555555555555556,
              "#d8576b"
             ],
             [
              0.6666666666666666,
              "#ed7953"
             ],
             [
              0.7777777777777778,
              "#fb9f3a"
             ],
             [
              0.8888888888888888,
              "#fdca26"
             ],
             [
              1,
              "#f0f921"
             ]
            ],
            "type": "surface"
           }
          ],
          "table": [
           {
            "cells": {
             "fill": {
              "color": "#EBF0F8"
             },
             "line": {
              "color": "white"
             }
            },
            "header": {
             "fill": {
              "color": "#C8D4E3"
             },
             "line": {
              "color": "white"
             }
            },
            "type": "table"
           }
          ]
         },
         "layout": {
          "annotationdefaults": {
           "arrowcolor": "#2a3f5f",
           "arrowhead": 0,
           "arrowwidth": 1
          },
          "autotypenumbers": "strict",
          "coloraxis": {
           "colorbar": {
            "outlinewidth": 0,
            "ticks": ""
           }
          },
          "colorscale": {
           "diverging": [
            [
             0,
             "#8e0152"
            ],
            [
             0.1,
             "#c51b7d"
            ],
            [
             0.2,
             "#de77ae"
            ],
            [
             0.3,
             "#f1b6da"
            ],
            [
             0.4,
             "#fde0ef"
            ],
            [
             0.5,
             "#f7f7f7"
            ],
            [
             0.6,
             "#e6f5d0"
            ],
            [
             0.7,
             "#b8e186"
            ],
            [
             0.8,
             "#7fbc41"
            ],
            [
             0.9,
             "#4d9221"
            ],
            [
             1,
             "#276419"
            ]
           ],
           "sequential": [
            [
             0,
             "#0d0887"
            ],
            [
             0.1111111111111111,
             "#46039f"
            ],
            [
             0.2222222222222222,
             "#7201a8"
            ],
            [
             0.3333333333333333,
             "#9c179e"
            ],
            [
             0.4444444444444444,
             "#bd3786"
            ],
            [
             0.5555555555555556,
             "#d8576b"
            ],
            [
             0.6666666666666666,
             "#ed7953"
            ],
            [
             0.7777777777777778,
             "#fb9f3a"
            ],
            [
             0.8888888888888888,
             "#fdca26"
            ],
            [
             1,
             "#f0f921"
            ]
           ],
           "sequentialminus": [
            [
             0,
             "#0d0887"
            ],
            [
             0.1111111111111111,
             "#46039f"
            ],
            [
             0.2222222222222222,
             "#7201a8"
            ],
            [
             0.3333333333333333,
             "#9c179e"
            ],
            [
             0.4444444444444444,
             "#bd3786"
            ],
            [
             0.5555555555555556,
             "#d8576b"
            ],
            [
             0.6666666666666666,
             "#ed7953"
            ],
            [
             0.7777777777777778,
             "#fb9f3a"
            ],
            [
             0.8888888888888888,
             "#fdca26"
            ],
            [
             1,
             "#f0f921"
            ]
           ]
          },
          "colorway": [
           "#636efa",
           "#EF553B",
           "#00cc96",
           "#ab63fa",
           "#FFA15A",
           "#19d3f3",
           "#FF6692",
           "#B6E880",
           "#FF97FF",
           "#FECB52"
          ],
          "font": {
           "color": "#2a3f5f"
          },
          "geo": {
           "bgcolor": "white",
           "lakecolor": "white",
           "landcolor": "#E5ECF6",
           "showlakes": true,
           "showland": true,
           "subunitcolor": "white"
          },
          "hoverlabel": {
           "align": "left"
          },
          "hovermode": "closest",
          "mapbox": {
           "style": "light"
          },
          "paper_bgcolor": "white",
          "plot_bgcolor": "#E5ECF6",
          "polar": {
           "angularaxis": {
            "gridcolor": "white",
            "linecolor": "white",
            "ticks": ""
           },
           "bgcolor": "#E5ECF6",
           "radialaxis": {
            "gridcolor": "white",
            "linecolor": "white",
            "ticks": ""
           }
          },
          "scene": {
           "xaxis": {
            "backgroundcolor": "#E5ECF6",
            "gridcolor": "white",
            "gridwidth": 2,
            "linecolor": "white",
            "showbackground": true,
            "ticks": "",
            "zerolinecolor": "white"
           },
           "yaxis": {
            "backgroundcolor": "#E5ECF6",
            "gridcolor": "white",
            "gridwidth": 2,
            "linecolor": "white",
            "showbackground": true,
            "ticks": "",
            "zerolinecolor": "white"
           },
           "zaxis": {
            "backgroundcolor": "#E5ECF6",
            "gridcolor": "white",
            "gridwidth": 2,
            "linecolor": "white",
            "showbackground": true,
            "ticks": "",
            "zerolinecolor": "white"
           }
          },
          "shapedefaults": {
           "line": {
            "color": "#2a3f5f"
           }
          },
          "ternary": {
           "aaxis": {
            "gridcolor": "white",
            "linecolor": "white",
            "ticks": ""
           },
           "baxis": {
            "gridcolor": "white",
            "linecolor": "white",
            "ticks": ""
           },
           "bgcolor": "#E5ECF6",
           "caxis": {
            "gridcolor": "white",
            "linecolor": "white",
            "ticks": ""
           }
          },
          "title": {
           "x": 0.05
          },
          "xaxis": {
           "automargin": true,
           "gridcolor": "white",
           "linecolor": "white",
           "ticks": "",
           "title": {
            "standoff": 15
           },
           "zerolinecolor": "white",
           "zerolinewidth": 2
          },
          "yaxis": {
           "automargin": true,
           "gridcolor": "white",
           "linecolor": "white",
           "ticks": "",
           "title": {
            "standoff": 15
           },
           "zerolinecolor": "white",
           "zerolinewidth": 2
          }
         }
        }
       }
      }
     },
     "metadata": {},
     "output_type": "display_data"
    }
   ],
   "source": [
    "from sklearn.decomposition import PCA\n",
    "import plotly.express as px\n",
    "import plotly.graph_objects as go\n",
    "\n",
    "\n",
    "features = df.columns[2:-1]\n",
    "\n",
    "def graph_team(team=None):\n",
    "    if team == None:\n",
    "        team_data = df.copy()\n",
    "    else:\n",
    "        team_data = df.loc[df['Team'] == team]\n",
    "\n",
    "    X = np.array(team_data[features])\n",
    "    pca = PCA(n_components=3)\n",
    "    principalComponents = pca.fit_transform(X)\n",
    "\n",
    "\n",
    "    plotly_df = team_data\n",
    "    \n",
    "    for i in range(len(principalComponents[0])):\n",
    "        plotly_df[str(i)] = principalComponents[:,i]\n",
    "\n",
    "    fig = px.scatter_3d(plotly_df, x='0', y='1', z='2',\n",
    "                     hover_name='Player',\n",
    "                     color='Position',\n",
    "                     hover_data={'0': False, '1': False, 'Team': False},\n",
    "                     title=team)\n",
    "\n",
    "    fig.update_traces(marker=dict(size=5))\n",
    "\n",
    "    fig.show()\n",
    "    \n",
    "\n",
    "for team in set(df['Team']):\n",
    "    graph_team()\n",
    "    break\n",
    "\n",
    "\n",
    "# Cluster before PCA, then graph\n",
    "# Graph each team, graph each position\n",
    "# Trade analyzer"
   ]
  }
 ],
 "metadata": {
  "kernelspec": {
   "display_name": "Python 3.9.6 64-bit",
   "language": "python",
   "name": "python3"
  },
  "language_info": {
   "codemirror_mode": {
    "name": "ipython",
    "version": 3
   },
   "file_extension": ".py",
   "mimetype": "text/x-python",
   "name": "python",
   "nbconvert_exporter": "python",
   "pygments_lexer": "ipython3",
   "version": "3.9.6"
  },
  "orig_nbformat": 4,
  "vscode": {
   "interpreter": {
    "hash": "31f2aee4e71d21fbe5cf8b01ff0e069b9275f58929596ceb00d14d90e3e16cd6"
   }
  }
 },
 "nbformat": 4,
 "nbformat_minor": 2
}
